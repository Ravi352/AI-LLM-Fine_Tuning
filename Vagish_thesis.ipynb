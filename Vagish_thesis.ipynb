{
  "nbformat": 4,
  "nbformat_minor": 0,
  "metadata": {
    "colab": {
      "provenance": []
    },
    "kernelspec": {
      "name": "python3",
      "display_name": "Python 3"
    },
    "language_info": {
      "name": "python"
    }
  },
  "cells": [
    {
      "cell_type": "code",
      "source": [
        "import os\n",
        "import getpass\n",
        "\n",
        "os.environ['OPENAI_API_KEY'] = getpass.getpass('OpenAI API Key:')"
      ],
      "metadata": {
        "id": "f5nFXQV2kyia"
      },
      "execution_count": null,
      "outputs": []
    },
    {
      "cell_type": "code",
      "source": [
        "# !pdftotext \"Ballistic impact performance of UHMWP fabric impregnated with shear.pdf\" \"output.txt\"\n",
        "!pip install pyPdf\n",
        "!pip install pdfminer.six\n",
        "!pdf2txt.py -o output.txt \"Ballistic impact performance of UHMWP fabric impregnated with shear.pdf\""
      ],
      "metadata": {
        "id": "aMEoNXrSkb8J"
      },
      "execution_count": 7,
      "outputs": []
    },
    {
      "cell_type": "code",
      "source": [
        "!pip install langchain\n",
        "!pip install openai\n",
        "!pip install tiktoken\n",
        "!pip install chromadb"
      ],
      "metadata": {
        "id": "3ZJgQVQjlKJB"
      },
      "execution_count": null,
      "outputs": []
    },
    {
      "cell_type": "code",
      "source": [
        "from langchain.document_loaders import TextLoader\n",
        "from langchain.embeddings.openai import OpenAIEmbeddings\n",
        "from langchain.text_splitter import CharacterTextSplitter\n",
        "from langchain.vectorstores import Chroma\n",
        "\n",
        "# Load the document, split it into chunks, embed each chunk and load it into the vector store.\n",
        "raw_documents = TextLoader('output.txt').load()\n",
        "text_splitter = CharacterTextSplitter(chunk_size=1000, chunk_overlap=0)\n",
        "documents = text_splitter.split_documents(raw_documents)\n",
        "db = Chroma.from_documents(documents, OpenAIEmbeddings())\n",
        "retriever = db.as_retriever()"
      ],
      "metadata": {
        "id": "zcLSBrjklF6r",
        "colab": {
          "base_uri": "https://localhost:8080/"
        },
        "outputId": "59eaee2f-172f-4150-bddb-918fdae1a27a"
      },
      "execution_count": 11,
      "outputs": [
        {
          "output_type": "stream",
          "name": "stderr",
          "text": [
            "WARNING:langchain.text_splitter:Created a chunk of size 1254, which is longer than the specified 1000\n",
            "WARNING:langchain.text_splitter:Created a chunk of size 1316, which is longer than the specified 1000\n",
            "WARNING:langchain.text_splitter:Created a chunk of size 1406, which is longer than the specified 1000\n",
            "WARNING:langchain.text_splitter:Created a chunk of size 1365, which is longer than the specified 1000\n",
            "WARNING:langchain.text_splitter:Created a chunk of size 1090, which is longer than the specified 1000\n",
            "WARNING:langchain.text_splitter:Created a chunk of size 1288, which is longer than the specified 1000\n",
            "WARNING:langchain.text_splitter:Created a chunk of size 1464, which is longer than the specified 1000\n",
            "WARNING:langchain.text_splitter:Created a chunk of size 1284, which is longer than the specified 1000\n",
            "WARNING:langchain.text_splitter:Created a chunk of size 1275, which is longer than the specified 1000\n"
          ]
        }
      ]
    },
    {
      "cell_type": "code",
      "source": [
        "from langchain.chat_models import ChatOpenAI\n",
        "from langchain.prompts import ChatPromptTemplate\n",
        "from langchain.schema import StrOutputParser\n",
        "from langchain.schema.runnable import RunnablePassthrough\n",
        "\n",
        "\n",
        "template = \"\"\"Answer the question based only on the following context:\n",
        "\n",
        "{context}\n",
        "\n",
        "Question: {question}\n",
        "\"\"\"\n",
        "prompt = ChatPromptTemplate.from_template(template)\n",
        "model = ChatOpenAI()\n",
        "\n",
        "\n",
        "def format_docs(docs):\n",
        "    return \"\\n\\n\".join([d.page_content for d in docs])\n",
        "\n",
        "\n",
        "chain = (\n",
        "    {\"context\": retriever | format_docs, \"question\": RunnablePassthrough()}\n",
        "    | prompt\n",
        "    | model\n",
        "    | StrOutputParser()\n",
        ")"
      ],
      "metadata": {
        "id": "wycg7eComZ0q"
      },
      "execution_count": 12,
      "outputs": []
    },
    {
      "cell_type": "code",
      "source": [
        "chain.invoke(\"can you explain me the work of this document in detail\")"
      ],
      "metadata": {
        "colab": {
          "base_uri": "https://localhost:8080/",
          "height": 226
        },
        "id": "6Xhdgrh1mhhJ",
        "outputId": "fb208e41-419f-495b-a9fe-bf12852e5079"
      },
      "execution_count": 15,
      "outputs": [
        {
          "output_type": "execute_result",
          "data": {
            "text/plain": [
              "'Based on the provided context, this document appears to be a report or study that investigates the ballistic performance of a projectile made of aluminium. The document describes the geometry and composition of the projectile and discusses the use of an O-ring sealing to reduce friction and gas leakage during firing.\\n\\nThe study measures the pre-impact and post-impact velocities of the projectile using a high-speed camera. The impact velocity is controlled by adjusting the compressor pressure and using overhead projector sheets and butter paper sheets. Ballistic tests are conducted on panels made of UD-UHMWP (unidirectional ultra-high molecular weight polyethylene) with varying numbers of layers.\\n\\nThe target panels are placed in a pendulum fixture and impacted by the projectile. The study measures the energy absorption, ballistic limit, and back face signature of the panels. Multiple tests are conducted for each velocity to account for measurement variability, and average values with standard deviation are determined.\\n\\nThe document mentions that the STF (shear thickening fluid) impregnated panel shows enhanced energy absorption compared to the non-perforated panel. The secondary fibers in the treated sample are pushed aside and experience fiber breakage, resulting in the dissipation of energy over a larger area. The increased friction between the layers and the surface of the projectile and UD-UHMWP fabric layers contribute to the improved energy absorption.\\n\\nThe back face signature, or back face deformation, of the non-perforated panel is also evaluated as a measure of ballistic performance.\\n\\nOverall, the document focuses on the ballistic performance of the aluminium projectile and the impact of using STF impregnated UD-UHMWP panels.'"
            ],
            "application/vnd.google.colaboratory.intrinsic+json": {
              "type": "string"
            }
          },
          "metadata": {},
          "execution_count": 15
        }
      ]
    },
    {
      "cell_type": "code",
      "source": [],
      "metadata": {
        "id": "hX5pYduZoYcZ"
      },
      "execution_count": null,
      "outputs": []
    },
    {
      "cell_type": "code",
      "source": [],
      "metadata": {
        "id": "Z_3YLs-GoYZq"
      },
      "execution_count": null,
      "outputs": []
    },
    {
      "cell_type": "code",
      "source": [],
      "metadata": {
        "id": "yoTSFi64oYW8"
      },
      "execution_count": null,
      "outputs": []
    },
    {
      "cell_type": "code",
      "source": [],
      "metadata": {
        "id": "EmyJLN-ToYT5"
      },
      "execution_count": null,
      "outputs": []
    },
    {
      "cell_type": "code",
      "source": [],
      "metadata": {
        "id": "iLiAzyQxoYQK"
      },
      "execution_count": null,
      "outputs": []
    },
    {
      "cell_type": "code",
      "source": [],
      "metadata": {
        "id": "9REjiCp-oYMh"
      },
      "execution_count": null,
      "outputs": []
    },
    {
      "cell_type": "code",
      "source": [],
      "metadata": {
        "id": "LSwD3sauoYHJ"
      },
      "execution_count": null,
      "outputs": []
    },
    {
      "cell_type": "code",
      "source": [],
      "metadata": {
        "id": "Fy40xCLioYEi"
      },
      "execution_count": null,
      "outputs": []
    },
    {
      "cell_type": "code",
      "source": [],
      "metadata": {
        "id": "NcVck0l-oX97"
      },
      "execution_count": null,
      "outputs": []
    },
    {
      "cell_type": "code",
      "source": [],
      "metadata": {
        "id": "-hfnRczEoX8G"
      },
      "execution_count": null,
      "outputs": []
    },
    {
      "cell_type": "code",
      "source": [],
      "metadata": {
        "id": "HvrFoDjYoX5x"
      },
      "execution_count": null,
      "outputs": []
    }
  ]
}